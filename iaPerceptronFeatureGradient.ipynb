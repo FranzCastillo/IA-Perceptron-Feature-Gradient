{
 "cells": [
  {
   "cell_type": "markdown",
   "metadata": {},
   "source": [
    "# Laboratorio No. 3\n",
    "- Ricardo Méndez 21289\n",
    "- Sara Echeverría 21371\n",
    "- Francisco Castillo 21562\n",
    "\n",
    "Enlace al repositorio: [https://github.com/FranzCastillo/IA-Perceptron-Feature-Gradient](https://github.com/FranzCastillo/IA-Perceptron-Feature-Gradient)"
   ]
  },
  {
   "cell_type": "markdown",
   "metadata": {},
   "source": [
    "# Task No. 1 Preguntas teóricas"
   ]
  },
  {
   "cell_type": "markdown",
   "metadata": {},
   "source": [
    "### 1.1 Explique la diferencia entre descenso de gradiente, descenso de gradiente por mini batches y descenso de gradiente estocástico. Asegúrese de mencionar las ventajas y desventajas de cada enfoque."
   ]
  },
  {
   "cell_type": "markdown",
   "metadata": {},
   "source": [
    "### 1.2 Compare y contraste técnicas de extracción de features (feature extraction) y selección de features (feature selection) en machine learning. De ejemplos de escenarios donde cada técnica sería más apropiada."
   ]
  },
  {
   "cell_type": "markdown",
   "metadata": {},
   "source": [
    "## Feature extraction\n",
    "Este implica transformar las características originales en un conjunto más informativo y compacto. "
   ]
  },
  {
   "cell_type": "markdown",
   "metadata": {},
   "source": [
    "## Feature selection\n",
    "Este consiste en elegir un subconjunto relevante de características originales para mejorar el rendimiento del modelo."
   ]
  },
  {
   "cell_type": "markdown",
   "metadata": {},
   "source": [
    "### 1.3 Describa la arquitectura y el funcionamiento de un perceptrón de una sola capa (un tipo de red neuronal sin backpropagation). Explique cómo aprende y la forma en la que actualiza sus parámetros.\n",
    "\n",
    "Un perceptrón de una sola capa es, como indican las instrucciones, un tipo de red neuronal simple; este solo puede aprender funciones lineales separables. Es conformado por una capa de entrada, una capa de procesamiento y una función de activación. El proceso de aprendizaje consiste en \"alimentar\" al perceptrón con varias observaciones, calcular la salida de cada una y ajustar los pesos para minimizar el error de salida.\n",
    "\n",
    "La manera en la que actualiza sus parámetros es a través de la regla de aprendizaje, la cual se basa en el error de salida. Si el error es positivo, se aumenta el peso; si el error es negativo, se disminuye el peso. Este proceso se repite hasta que el error sea mínimo.\n",
    "\n",
    "**Referencias**\n",
    "[Perceptrón: ¿qué es y para qué sirve?](https://datascientest.com/es/perceptron-que-es-y-para-que-sirve)"
   ]
  },
  {
   "cell_type": "markdown",
   "metadata": {},
   "source": [
    "# Task No. 2.1 Gradiente descendiente estocástico"
   ]
  },
  {
   "cell_type": "markdown",
   "metadata": {},
   "source": [
    "# Task No. 2.2 Feature selection"
   ]
  },
  {
   "cell_type": "markdown",
   "metadata": {},
   "source": [
    "# Task No. 2.3 Perceptrón"
   ]
  },
  {
   "cell_type": "code",
   "execution_count": 1,
   "metadata": {
    "ExecuteTime": {
     "end_time": "2024-02-03T02:14:42.592195200Z",
     "start_time": "2024-02-03T02:14:37.278048900Z"
    },
    "collapsed": false
   },
   "outputs": [],
   "source": [
    "# Load Iris\n",
    "from sklearn.datasets import load_iris\n",
    "from sklearn.model_selection import train_test_split\n",
    "from sklearn.metrics import accuracy_score, classification_report\n",
    "import matplotlib.pyplot as plt\n",
    "import numpy as np"
   ]
  },
  {
   "cell_type": "code",
   "execution_count": 2,
   "metadata": {
    "ExecuteTime": {
     "end_time": "2024-02-03T02:14:42.606679100Z",
     "start_time": "2024-02-03T02:14:42.594178900Z"
    },
    "collapsed": false
   },
   "outputs": [],
   "source": [
    "def unit_step(x):\n",
    "    \"\"\" Heaviside Step function. v must be a scalar or a numpy array. \"\"\"\n",
    "    threshold = 0\n",
    "    versicolor = 0\n",
    "    virginica = 1\n",
    "    return np.where(x > threshold, virginica, versicolor)"
   ]
  },
  {
   "cell_type": "code",
   "execution_count": 3,
   "metadata": {
    "ExecuteTime": {
     "end_time": "2024-02-03T02:14:42.607655400Z",
     "start_time": "2024-02-03T02:14:42.602668300Z"
    },
    "collapsed": false
   },
   "outputs": [],
   "source": [
    "class Perceptron:\n",
    "    \"\"\"\n",
    "    Perceptron classifier.\n",
    "    Reference: https://www.youtube.com/watch?v=aOEoxyA4uXU\n",
    "    \"\"\"\n",
    "    def __init__(self, learning_rate=0.01, n_iters=1000):\n",
    "        self.learning_rate = learning_rate\n",
    "        self.n_iters = n_iters\n",
    "        self.activation_func = unit_step\n",
    "        self.weights = None\n",
    "        self.bias = None\n",
    "        \n",
    "    def fit(self, X, y):\n",
    "        n_samples, n_features = X.shape\n",
    "        \n",
    "        self.weights = np.random.rand(n_features)\n",
    "        self.bias = 0\n",
    "        \n",
    "        # Gradient descent\n",
    "        for _ in range(self.n_iters):\n",
    "            for i, x_i in enumerate(X):\n",
    "                linear_output = np.dot(x_i, self.weights) + self.bias\n",
    "                y_predicted = self.activation_func(linear_output)\n",
    "                \n",
    "                # Perceptron update rule\n",
    "                update = self.learning_rate * (y[i] - y_predicted)\n",
    "                self.weights += update * x_i\n",
    "                self.bias += update\n",
    "        \n",
    "    \n",
    "    def predict(self, X):\n",
    "        linear_output = np.dot(X, self.weights) + self.bias\n",
    "        y_predicted = self.activation_func(linear_output)\n",
    "        return y_predicted"
   ]
  },
  {
   "cell_type": "code",
   "execution_count": 4,
   "metadata": {
    "ExecuteTime": {
     "end_time": "2024-02-03T02:14:42.648135500Z",
     "start_time": "2024-02-03T02:14:42.605658200Z"
    },
    "collapsed": false
   },
   "outputs": [
    {
     "name": "stdout",
     "output_type": "stream",
     "text": [
      "dict_keys(['data', 'target', 'frame', 'target_names', 'DESCR', 'feature_names', 'filename', 'data_module'])\n",
      "['sepal length (cm)', 'sepal width (cm)', 'petal length (cm)', 'petal width (cm)']\n",
      "['setosa' 'versicolor' 'virginica']\n"
     ]
    }
   ],
   "source": [
    "iris = load_iris()\n",
    "print(iris.keys())\n",
    "\n",
    "# Print the names of the four features and the values\n",
    "print(iris.feature_names)\n",
    "\n",
    "# Print the names of the three target classes \n",
    "print(iris.target_names)"
   ]
  },
  {
   "cell_type": "code",
   "execution_count": 5,
   "metadata": {
    "ExecuteTime": {
     "end_time": "2024-02-03T02:14:42.649134Z",
     "start_time": "2024-02-03T02:14:42.634878400Z"
    },
    "collapsed": false
   },
   "outputs": [],
   "source": [
    "X = iris.data\n",
    "y = iris.target\n",
    "\n",
    "# Drop setosa\n",
    "X = X[y != 0]\n",
    "y = y[y != 0]\n",
    "\n",
    "# Keep sepal length and sepal width as the features in the X matrix\n",
    "X_sepal_length = X[:, 0]\n",
    "X_sepal_width = X[:, 1]\n",
    "\n",
    "X = np.array(list(zip(X_sepal_length, X_sepal_width)))\n",
    "\n",
    "# Binarize the target\n",
    "y = np.where(y == 1, 0, 1) # Versicolor is 0, Virginica is 1"
   ]
  },
  {
   "cell_type": "code",
   "execution_count": 6,
   "metadata": {
    "ExecuteTime": {
     "end_time": "2024-02-03T02:14:42.650130500Z",
     "start_time": "2024-02-03T02:14:42.640660300Z"
    },
    "collapsed": false
   },
   "outputs": [],
   "source": [
    "# Split the data into training and testing sets\n",
    "X_train, X_test, y_train, y_test = train_test_split(X, y, test_size=0.2, random_state=21562)"
   ]
  },
  {
   "cell_type": "code",
   "execution_count": 7,
   "metadata": {
    "ExecuteTime": {
     "end_time": "2024-02-03T02:14:43.352636500Z",
     "start_time": "2024-02-03T02:14:42.648135500Z"
    },
    "collapsed": false
   },
   "outputs": [],
   "source": [
    "# Train the perceptron\n",
    "perceptron = Perceptron()\n",
    "perceptron.fit(X_train, y_train)"
   ]
  },
  {
   "cell_type": "code",
   "execution_count": 8,
   "metadata": {
    "ExecuteTime": {
     "end_time": "2024-02-03T02:14:43.365288400Z",
     "start_time": "2024-02-03T02:14:43.354806100Z"
    },
    "collapsed": false
   },
   "outputs": [],
   "source": [
    "# Make predictions\n",
    "y_pred = perceptron.predict(X_test)"
   ]
  },
  {
   "cell_type": "code",
   "execution_count": 9,
   "metadata": {
    "ExecuteTime": {
     "end_time": "2024-02-03T02:14:43.613803600Z",
     "start_time": "2024-02-03T02:14:43.362307400Z"
    },
    "collapsed": false
   },
   "outputs": [
    {
     "data": {
      "image/png": "[encoded data removed]",
      "text/plain": [
       "<Figure size 640x480 with 1 Axes>"
      ]
     },
     "metadata": {},
     "output_type": "display_data"
    }
   ],
   "source": [
    "# Plot the decision boundary\n",
    "x1 = np.linspace(4.6, 8, 50)\n",
    "x2 = -(perceptron.weights[0] * x1 + perceptron.bias) / perceptron.weights[1]\n",
    "\n",
    "# Limit the decision boundary to the range of the sepal width\n",
    "x2 = np.clip(x2, 2, 4)\n",
    "plt.plot(x1, x2, 'k')\n",
    "\n",
    "# Plot predictions\n",
    "plt.scatter(X_test[y_test == 0][:, 0], X_test[y_test == 0][:, 1], c='b', label='Versicolor')\n",
    "plt.scatter(X_test[y_test == 1][:, 0], X_test[y_test == 1][:, 1], c='r', label='Virginica')\n",
    "\n",
    "\n",
    "plt.xlabel('Sepal length (cm)')\n",
    "plt.ylabel('Sepal width (cm)')\n",
    "plt.title('Perceptron Predictions')\n",
    "plt.legend(loc='upper left', bbox_to_anchor=(1, 1))\n",
    "plt.show()"
   ]
  },
  {
   "cell_type": "code",
   "execution_count": 10,
   "metadata": {
    "ExecuteTime": {
     "end_time": "2024-02-03T02:14:43.633725300Z",
     "start_time": "2024-02-03T02:14:43.618441400Z"
    },
    "collapsed": false
   },
   "outputs": [
    {
     "data": {
      "text/plain": [
       "array([[7, 3],\n",
       "       [4, 6]], dtype=int64)"
      ]
     },
     "execution_count": 10,
     "metadata": {},
     "output_type": "execute_result"
    }
   ],
   "source": [
    "from sklearn.metrics import confusion_matrix\n",
    "\n",
    "confusion_matrix(y_test, y_pred)"
   ]
  },
  {
   "cell_type": "code",
   "execution_count": 11,
   "metadata": {
    "ExecuteTime": {
     "end_time": "2024-02-03T02:14:43.635712800Z",
     "start_time": "2024-02-03T02:14:43.621965500Z"
    },
    "collapsed": false
   },
   "outputs": [
    {
     "name": "stdout",
     "output_type": "stream",
     "text": [
      "              precision    recall  f1-score   support\n",
      "\n",
      "           0       0.64      0.70      0.67        10\n",
      "           1       0.67      0.60      0.63        10\n",
      "\n",
      "    accuracy                           0.65        20\n",
      "   macro avg       0.65      0.65      0.65        20\n",
      "weighted avg       0.65      0.65      0.65        20\n"
     ]
    }
   ],
   "source": [
    "# Evaluate the model\n",
    "print(classification_report(y_test, y_pred))"
   ]
  },
  {
   "cell_type": "code",
   "execution_count": 12,
   "metadata": {
    "ExecuteTime": {
     "end_time": "2024-02-03T02:14:43.648764600Z",
     "start_time": "2024-02-03T02:14:43.637665Z"
    },
    "collapsed": false
   },
   "outputs": [
    {
     "name": "stdout",
     "output_type": "stream",
     "text": [
      "Accuracy: 0.65\n"
     ]
    }
   ],
   "source": [
    "print(f'Accuracy: {accuracy_score(y_test, y_pred)}')"
   ]
  },
  {
   "cell_type": "markdown",
   "metadata": {
    "collapsed": false
   },
   "source": [
    "Se ha escogido para evaluar el perceptrón el _accuracy_ debido a que es un problema de clasificación binaria. El _accuracy_ es una métrica adecuada para evaluar la precisión de un modelo en donde es necesario tener en cuenta tanto los verdaderos positivos como los verdaderos negativos. \n",
    "\n",
    "En este caso, el _accuracy_ obtenido es de 0.65. No es un valor ideal, pero es un buen punto de partida para mejorar el modelo. Al haber tomado solamente 2 _features_ de los disponibles en el conjunto de datos, es posible que el modelo no esté capturando toda la información necesaria para hacer predicciones más precisas. Además, es necesario tomar en cuenta que las que han sido escogidas (Sepal width y Sepal length) no son las que mejor separan las clases, pues se pueden observar puntos de una clase en el área de la otra. "
   ]
  }
 ],
 "metadata": {
  "kernelspec": {
   "display_name": "Python 3 (ipykernel)",
   "language": "python",
   "name": "python3"
  },
  "language_info": {
   "name": "python",
   "version": "3.9.13"
  }
 },
 "nbformat": 4,
 "nbformat_minor": 2
}
