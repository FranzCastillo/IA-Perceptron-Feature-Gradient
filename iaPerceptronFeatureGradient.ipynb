{
 "cells": [
  {
   "cell_type": "markdown",
   "metadata": {},
   "source": [
    "# Laboratorio No. 3\n",
    "- Ricardo Méndez 21289\n",
    "- Sara Echeverría 21371\n",
    "- Francisco Castillo 21562\n",
    "\n",
    "Enlace al repositorio: [https://github.com/FranzCastillo/IA-Perceptron-Feature-Gradient](https://github.com/FranzCastillo/IA-Perceptron-Feature-Gradient)"
   ]
  },
  {
   "cell_type": "markdown",
   "metadata": {},
   "source": [
    "# Task No. 1 Preguntas teóricas"
   ]
  },
  {
   "cell_type": "markdown",
   "metadata": {},
   "source": [
    "### 1.1 Explique la diferencia entre descenso de gradiente, descenso de gradiente por mini batches y descenso de gradiente estocástico. Asegúrese de mencionar las ventajas y desventajas de cada enfoque."
   ]
  },
  {
   "cell_type": "markdown",
   "metadata": {},
   "source": [
    "### 1.2 Compare y contraste técnicas de extracción de features (feature extraction) y selección de features (feature selection) en machine learning. De ejemplos de escenarios donde cada técnica sería más apropiada."
   ]
  },
  {
   "cell_type": "markdown",
   "metadata": {},
   "source": [
    "### 1.3 Describa la arquitectura y el funcionamiento de un perceptrón de una sola capa (un tipo de red neuronal sin backpropagation). Explique cómo aprende y la forma en la que actualiza sus parámetros.\n",
    "\n",
    "Un perceptrón de una sola capa es, como indican las instrucciones, un tipo de red neuronal simple; este solo puede aprender funciones lineales separables. Es conformado por una capa de entrada, una capa de procesamiento y una función de activación. El proceso de aprendizaje consiste en \"alimentar\" al perceptrón con varias observaciones, calcular la salida de cada una y ajustar los pesos para minimizar el error de salida. El ajuste de los pesos es su \"proceso de aprendizaje\", el cual se realiza con una tasa de aprendizaje, valor que ajusta el los pesos de acuerdo con el error de salida.\n",
    "\n",
    "**Referencias**\n",
    "[Perceptrón: ¿qué es y para qué sirve?](https://datascientest.com/es/perceptron-que-es-y-para-que-sirve)"
   ]
  },
  {
   "cell_type": "markdown",
   "metadata": {},
   "source": [
    "# Task No. 2.1 Gradiente descendiente estocástico"
   ]
  },
  {
   "cell_type": "markdown",
   "metadata": {},
   "source": [
    "# Task No. 2.2 Feature selection"
   ]
  },
  {
   "cell_type": "markdown",
   "metadata": {},
   "source": [
    "# Task No. 2.3 Perceptrón"
   ]
  }
 ],
 "metadata": {
  "kernelspec": {
   "display_name": "myenv",
   "language": "python",
   "name": "myenv"
  },
  "language_info": {
   "name": "python",
   "version": "3.9.13"
  }
 },
 "nbformat": 4,
 "nbformat_minor": 2
}
