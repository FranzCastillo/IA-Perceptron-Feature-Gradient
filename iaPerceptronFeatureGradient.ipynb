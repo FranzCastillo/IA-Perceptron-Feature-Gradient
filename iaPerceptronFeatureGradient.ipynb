{
 "cells": [
  {
   "cell_type": "markdown",
   "metadata": {},
   "source": [
    "# Laboratorio No. 3\n",
    "- Ricardo Méndez 21289\n",
    "- Sara Echeverría 21371\n",
    "- Francisco Castillo 21562\n",
    "\n",
    "Enlace al repositorio: [https://github.com/FranzCastillo/IA-Perceptron-Feature-Gradient](https://github.com/FranzCastillo/IA-Perceptron-Feature-Gradient)"
   ]
  },
  {
   "cell_type": "markdown",
   "metadata": {},
   "source": [
    "# Task No. 1 Preguntas teóricas"
   ]
  },
  {
   "cell_type": "markdown",
   "metadata": {},
   "source": [
    "### 1.1 Explique la diferencia entre descenso de gradiente, descenso de gradiente por mini batches y descenso de gradiente estocástico. Asegúrese de mencionar las ventajas y desventajas de cada enfoque."
   ]
  },
  {
   "cell_type": "markdown",
   "metadata": {},
   "source": [
    "#### Descenso de Gradiente\n",
    "##### El descenso de Gradiente recorre todas las observaciones y, mediante la función de pérdida, actualiza los parámetros para minimizar la misma.\n",
    "\n",
    "#### Descenso de Gradiente Estocástico\n",
    "##### El Descenso de Gradiente estocástico sigue la misma lógica que el GD, pero cambia en la cantidad de observaciones que opera. Este se basa en seleccionar una observación al azar y utilizarla para actualizar los parámetros necesarios para seguir minimizando la función de pérdida.\n",
    "\n",
    "#### Descenso de Gradiente por Mini Batches\n",
    "##### El Descenso de Gradiente por Mini Batches emplea exactamente la misma metodología que el Descenso de Gradiente Estocástico, pero mejora su precisión. Esto debido a que, en vez de solamente tomar una observación al azar, normalmente toma tres. Con este pequeño cambio causa que sus pasos llegan a ser más precisos y efectivos en la búsqueda de la minimización de la función de pérdida.\n",
    "\n",
    "**Referencias :** [Batch, Mini Batch & Stochastic Gradient Descent](https://towardsdatascience.com/batch-mini-batch-stochastic-gradient-descent-7a62ecba642a)"
   ]
  },
  {
   "cell_type": "markdown",
   "metadata": {},
   "source": [
    "### 1.2 Compare y contraste técnicas de extracción de features (feature extraction) y selección de features (feature selection) en machine learning. De ejemplos de escenarios donde cada técnica sería más apropiada."
   ]
  },
  {
   "cell_type": "markdown",
   "metadata": {},
   "source": [
    "## Feature extraction\n",
    "Esta implica transformar las características originales en un conjunto más informativo y compacto. "
   ]
  },
  {
   "cell_type": "markdown",
   "metadata": {},
   "source": [
    "![pic](https://miro.medium.com/v2/resize:fit:828/format:webp/0*bRNjQuiiMxnh3JpP.png)"
   ]
  },
  {
   "cell_type": "markdown",
   "metadata": {},
   "source": [
    "Los métodos lineales como el Análisis de Componentes Principales (PCA) y no lineales como el Autoencoder son ejemplos. PCA identifica componentes principales que explican la máxima varianza, mientras que Autoencoder utiliza una red neuronal para comprimir datos. Un ejemplo práctico es el método de Coeficientes Cepstrales de Mel-Frecuencia (MFCC) para extraer características de señales de audio en reconocimiento de voz."
   ]
  },
  {
   "cell_type": "markdown",
   "metadata": {},
   "source": [
    "## Feature selection\n",
    "Esta consiste en elegir un subconjunto relevante de características originales para mejorar el rendimiento del modelo."
   ]
  },
  {
   "cell_type": "markdown",
   "metadata": {},
   "source": [
    "![pic](https://miro.medium.com/v2/resize:fit:828/format:webp/1*CHnUGGi0rPzwyUlT0pphcw.png)"
   ]
  },
  {
   "cell_type": "markdown",
   "metadata": {},
   "source": [
    "Los métodos de filtro, como la Selección Univariable de Características con el valor F de ANOVA, clasifican y seleccionan características. La Eliminación Recursiva de Características (RFE) es un método de envoltura que selecciona características importantes mediante la eliminación recursiva de las menos importantes. "
   ]
  },
  {
   "cell_type": "markdown",
   "metadata": {},
   "source": [
    "(GeeksforGeeks, 2023; Gomede, 2023; Shah, 2021)"
   ]
  },
  {
   "cell_type": "markdown",
   "metadata": {},
   "source": [
    "### Referencias\n",
    "- GeeksforGeeks. (2023). Difference between feature selection and feature extraction. https://www.geeksforgeeks.org/difference-between-feature-selection-and-feature-extraction/\n",
    "- Gomede. (2023). Feature Engineering for Computer Vision - Everton Gomede, PhD - medium. Medium. https://medium.com/@evertongomede/feature-engineering-for-computer-vision-f01a76d8058c\n",
    "- Shah. (2021). Feature Selection Techniques - DataDrivenInvestor. Medium. https://medium.datadriveninvestor.com/feature-selection-techniques-1a99e61da222"
   ]
  },
  {
   "cell_type": "markdown",
   "metadata": {},
   "source": [
    "### 1.3 Describa la arquitectura y el funcionamiento de un perceptrón de una sola capa (un tipo de red neuronal sin backpropagation). Explique cómo aprende y la forma en la que actualiza sus parámetros.\n",
    "\n",
    "Un perceptrón de una sola capa es, como indican las instrucciones, un tipo de red neuronal simple; este solo puede aprender funciones lineales separables. Es conformado por una capa de entrada, una capa de procesamiento y una función de activación. El proceso de aprendizaje consiste en \"alimentar\" al perceptrón con varias observaciones, calcular la salida de cada una y ajustar los pesos para minimizar el error de salida.\n",
    "\n",
    "La manera en la que actualiza sus parámetros es a través de la regla de aprendizaje, la cual se basa en el error de salida. Si el error es positivo, se aumenta el peso; si el error es negativo, se disminuye el peso. Este proceso se repite hasta que el error sea mínimo.\n",
    "\n",
    "**Referencias**\n",
    "[Perceptrón: ¿qué es y para qué sirve?](https://datascientest.com/es/perceptron-que-es-y-para-que-sirve)"
   ]
  },
  {
   "cell_type": "code",
   "execution_count": 1,
   "metadata": {},
   "outputs": [],
   "source": [
    "import matplotlib.pyplot as plt\n",
    "import numpy as np"
   ]
  },
  {
   "cell_type": "markdown",
   "metadata": {},
   "source": [
    "# Task No. 2.1 Gradiente descendiente estocástico"
   ]
  },
  {
   "cell_type": "code",
   "execution_count": 31,
   "metadata": {},
   "outputs": [],
   "source": [
    "import random\n",
    "import time\n",
    "\n",
    "values = [random.uniform(-1000, 1000) for _ in range(1000)]\n",
    "SGD_values = values.copy()\n",
    "mini_values = values.copy()\n",
    "\n",
    "max = np.max(values)\n",
    "min = np.min(values)\n",
    "\n",
    "\n",
    "poly = np.poly1d([2,3,5,3])\n",
    "deriv = np.polyder(poly)\n",
    "\n",
    "GD_arr, SGD_arr, SGD_minib_arr = [],[],[]\n"
   ]
  },
  {
   "cell_type": "code",
   "execution_count": 32,
   "metadata": {},
   "outputs": [],
   "source": [
    "#GD\n",
    "start = time.time() * 1000\n",
    "for val in values:\n",
    "    GD_arr.append(np.polyval(deriv,val))\n",
    "end = time.time() * 1000\n",
    "time.sleep(1)\n",
    "GD_time = end - start"
   ]
  },
  {
   "cell_type": "code",
   "execution_count": 33,
   "metadata": {},
   "outputs": [],
   "source": [
    "#SGD\n",
    "sgd_used_val = []\n",
    "start = time.time() * 1000\n",
    "for _ in range(100):\n",
    "    id = random.randint(0,len(SGD_values)-1)\n",
    "    val = SGD_values.pop(id)\n",
    "    sgd_used_val.append(val)\n",
    "    SGD_arr.append(np.polyval(deriv,val))\n",
    "end = time.time() * 1000\n",
    "time.sleep(1)\n",
    "SGD_time = end - start"
   ]
  },
  {
   "cell_type": "code",
   "execution_count": 34,
   "metadata": {},
   "outputs": [],
   "source": [
    "#SGD mini batch\n",
    "start = time.time() * 1000\n",
    "val = []\n",
    "mini_used_val = []\n",
    "for _ in range(100):\n",
    "    for _ in range(3):\n",
    "        id = random.randint(0,len(mini_values)-1)\n",
    "        val.append(mini_values.pop(id))\n",
    "    mini_used_val.append(val[0])\n",
    "    mini_used_val.append(val[1])  \n",
    "    mini_used_val.append(val[2])      \n",
    "    SGD_minib_arr.append(np.polyval(deriv,val.pop()))\n",
    "    SGD_minib_arr.append(np.polyval(deriv,val.pop()))\n",
    "    SGD_minib_arr.append(np.polyval(deriv,val.pop()))\n",
    "end = time.time() * 1000\n",
    "time.sleep(1)\n",
    "mini_time = end - start"
   ]
  },
  {
   "cell_type": "code",
   "execution_count": 24,
   "metadata": {},
   "outputs": [
    {
     "data": {
      "image/png": "[encoded data removed]",
      "text/plain": [
       "<Figure size 1000x600 with 3 Axes>"
      ]
     },
     "metadata": {},
     "output_type": "display_data"
    }
   ],
   "source": [
    "plt.figure(figsize=(10, 6))\n",
    "\n",
    "\n",
    "values.sort()\n",
    "GD_arr.sort()\n",
    "sgd_used_val.sort()\n",
    "SGD_arr.sort()\n",
    "mini_used_val.sort()\n",
    "SGD_minib_arr.sort()\n",
    "\n",
    "plt.subplot(311)\n",
    "plt.plot(values, GD_arr, 'r')\n",
    "plt.title('Método 1')\n",
    "\n",
    "plt.subplot(312)\n",
    "plt.plot(sgd_used_val, SGD_arr, 'g')  \n",
    "plt.title('Método 2')\n",
    "\n",
    "plt.subplot(313)\n",
    "plt.plot(mini_used_val, SGD_minib_arr, 'b')  \n",
    "plt.title('Método 3')\n",
    "\n",
    "plt.tight_layout()\n",
    "plt.show()"
   ]
  },
  {
   "cell_type": "code",
   "execution_count": 35,
   "metadata": {},
   "outputs": [
    {
     "name": "stdout",
     "output_type": "stream",
     "text": [
      "GD MSE: 5.901576173983265e+17\n",
      " Time: 8.996826171875ms\n",
      "\n",
      "SGD MSE: 5.901576173983265e+17\n",
      " Time: 2.00048828125ms\n",
      "\n",
      "MINI BATCH MSE: 5.904368695506848e+17\n",
      " Time: 3.98291015625ms\n"
     ]
    }
   ],
   "source": [
    "gd_poly = np.poly1d(np.polyfit(values, GD_arr, 3))\n",
    "sgd_poly = np.poly1d(np.polyfit(sgd_used_val, SGD_arr, 3))\n",
    "mini_poly = np.poly1d(np.polyfit(mini_used_val, SGD_minib_arr, 3))\n",
    "\n",
    "gd_score = 0\n",
    "sgd_score = 0\n",
    "mini_score = 0\n",
    "\n",
    "\n",
    "for x in values:\n",
    "    gd_score += (np.polyval([2,3,5,3],x) - gd_poly(x))**2\n",
    "    sgd_score += (np.polyval([2,3,5,3],x) - sgd_poly(x))**2\n",
    "    mini_score += (np.polyval([2,3,5,3],x) - mini_poly(x))**2\n",
    "\n",
    "print(\"GD MSE: \" + str(gd_score/len(values)) + \"\\n Time: \" + str(GD_time)+\"ms\")\n",
    "print(\"\\nSGD MSE: \" + str(sgd_score/len(values))+ \"\\n Time: \" + str(SGD_time)+\"ms\")\n",
    "print(\"\\nMINI BATCH MSE: \" + str(mini_score/len(values))+ \"\\n Time: \" + str(mini_time)+\"ms\")"
   ]
  },
  {
   "cell_type": "markdown",
   "metadata": {},
   "source": [
    "#### Sobre los tiempos de ejecución, claramente el GD es el que más se tardó en procesar todos los datos. Esto debido a que el método se basa en recorrer todos los valores por cada iteración. En su contraparte, el SGD solamente debe utilizar un valor por iteración y procesarlo.\n",
    "\n",
    "#### El método que mejor fit tuvo fue el SGD con Mini Batch. Esto puede ser situacional según los valores randoms encontrados porque, en teoría, el método de GD es el que mejor fit debe conseguir. De este modo se descarta el SGD pues, en teoría, es el que peor fit tiene de los tres debido a las pocas iteraciones y operaciones que realiza.\n",
    "\n",
    "#### En general el mejor modelo es el SGD con Mini Batch. Es el que mejor fit obtuvo y el segundo tiempo más bajo, siendo el que mejor parado se mantiene para ambos campos de comparación."
   ]
  },
  {
   "cell_type": "markdown",
   "metadata": {},
   "source": [
    "# Task No. 2.2 Feature selection"
   ]
  },
  {
   "cell_type": "markdown",
   "metadata": {},
   "source": [
    "### Análisis explroatorio en laboratorio No. 2"
   ]
  },
  {
   "cell_type": "code",
   "execution_count": 8,
   "metadata": {},
   "outputs": [
    {
     "name": "stderr",
     "output_type": "stream",
     "text": [
      "C:\\Users\\euroc\\AppData\\Local\\Temp\\ipykernel_11056\\2195522030.py:2: DeprecationWarning: \n",
      "Pyarrow will become a required dependency of pandas in the next major release of pandas (pandas 3.0),\n",
      "(to allow more performant data types, such as the Arrow string type, and better interoperability with other libraries)\n",
      "but was not found to be installed on your system.\n",
      "If this would cause problems for you,\n",
      "please provide us feedback at https://github.com/pandas-dev/pandas/issues/54466\n",
      "        \n",
      "  import pandas as pd\n"
     ]
    }
   ],
   "source": [
    "import numpy as np\n",
    "import pandas as pd\n",
    "from sklearn import svm\n",
    "from sklearn.svm import *\n",
    "import matplotlib.pyplot as plt\n",
    "from sklearn.metrics import accuracy_score\n",
    "from sklearn.preprocessing import StandardScaler\n",
    "from sklearn.model_selection import train_test_split\n",
    "from sklearn.feature_selection import SelectKBest, f_classif, RFE"
   ]
  },
  {
   "cell_type": "code",
   "execution_count": 9,
   "metadata": {},
   "outputs": [
    {
     "data": {
      "text/html": [
       "<div>\n",
       "<style scoped>\n",
       "    .dataframe tbody tr th:only-of-type {\n",
       "        vertical-align: middle;\n",
       "    }\n",
       "\n",
       "    .dataframe tbody tr th {\n",
       "        vertical-align: top;\n",
       "    }\n",
       "\n",
       "    .dataframe thead th {\n",
       "        text-align: right;\n",
       "    }\n",
       "</style>\n",
       "<table border=\"1\" class=\"dataframe\">\n",
       "  <thead>\n",
       "    <tr style=\"text-align: right;\">\n",
       "      <th></th>\n",
       "      <th>gameId</th>\n",
       "      <th>blueWins</th>\n",
       "      <th>blueWardsPlaced</th>\n",
       "      <th>blueWardsDestroyed</th>\n",
       "      <th>blueFirstBlood</th>\n",
       "      <th>blueKills</th>\n",
       "      <th>blueDeaths</th>\n",
       "      <th>blueAssists</th>\n",
       "      <th>blueEliteMonsters</th>\n",
       "      <th>blueDragons</th>\n",
       "      <th>...</th>\n",
       "      <th>redTowersDestroyed</th>\n",
       "      <th>redTotalGold</th>\n",
       "      <th>redAvgLevel</th>\n",
       "      <th>redTotalExperience</th>\n",
       "      <th>redTotalMinionsKilled</th>\n",
       "      <th>redTotalJungleMinionsKilled</th>\n",
       "      <th>redGoldDiff</th>\n",
       "      <th>redExperienceDiff</th>\n",
       "      <th>redCSPerMin</th>\n",
       "      <th>redGoldPerMin</th>\n",
       "    </tr>\n",
       "  </thead>\n",
       "  <tbody>\n",
       "    <tr>\n",
       "      <th>0</th>\n",
       "      <td>4519157822</td>\n",
       "      <td>0</td>\n",
       "      <td>28</td>\n",
       "      <td>2</td>\n",
       "      <td>1</td>\n",
       "      <td>9</td>\n",
       "      <td>6</td>\n",
       "      <td>11</td>\n",
       "      <td>0</td>\n",
       "      <td>0</td>\n",
       "      <td>...</td>\n",
       "      <td>0</td>\n",
       "      <td>16567</td>\n",
       "      <td>6.8</td>\n",
       "      <td>17047</td>\n",
       "      <td>197</td>\n",
       "      <td>55</td>\n",
       "      <td>-643</td>\n",
       "      <td>8</td>\n",
       "      <td>19.7</td>\n",
       "      <td>1656.7</td>\n",
       "    </tr>\n",
       "    <tr>\n",
       "      <th>1</th>\n",
       "      <td>4523371949</td>\n",
       "      <td>0</td>\n",
       "      <td>12</td>\n",
       "      <td>1</td>\n",
       "      <td>0</td>\n",
       "      <td>5</td>\n",
       "      <td>5</td>\n",
       "      <td>5</td>\n",
       "      <td>0</td>\n",
       "      <td>0</td>\n",
       "      <td>...</td>\n",
       "      <td>1</td>\n",
       "      <td>17620</td>\n",
       "      <td>6.8</td>\n",
       "      <td>17438</td>\n",
       "      <td>240</td>\n",
       "      <td>52</td>\n",
       "      <td>2908</td>\n",
       "      <td>1173</td>\n",
       "      <td>24.0</td>\n",
       "      <td>1762.0</td>\n",
       "    </tr>\n",
       "    <tr>\n",
       "      <th>2</th>\n",
       "      <td>4521474530</td>\n",
       "      <td>0</td>\n",
       "      <td>15</td>\n",
       "      <td>0</td>\n",
       "      <td>0</td>\n",
       "      <td>7</td>\n",
       "      <td>11</td>\n",
       "      <td>4</td>\n",
       "      <td>1</td>\n",
       "      <td>1</td>\n",
       "      <td>...</td>\n",
       "      <td>0</td>\n",
       "      <td>17285</td>\n",
       "      <td>6.8</td>\n",
       "      <td>17254</td>\n",
       "      <td>203</td>\n",
       "      <td>28</td>\n",
       "      <td>1172</td>\n",
       "      <td>1033</td>\n",
       "      <td>20.3</td>\n",
       "      <td>1728.5</td>\n",
       "    </tr>\n",
       "    <tr>\n",
       "      <th>3</th>\n",
       "      <td>4524384067</td>\n",
       "      <td>0</td>\n",
       "      <td>43</td>\n",
       "      <td>1</td>\n",
       "      <td>0</td>\n",
       "      <td>4</td>\n",
       "      <td>5</td>\n",
       "      <td>5</td>\n",
       "      <td>1</td>\n",
       "      <td>0</td>\n",
       "      <td>...</td>\n",
       "      <td>0</td>\n",
       "      <td>16478</td>\n",
       "      <td>7.0</td>\n",
       "      <td>17961</td>\n",
       "      <td>235</td>\n",
       "      <td>47</td>\n",
       "      <td>1321</td>\n",
       "      <td>7</td>\n",
       "      <td>23.5</td>\n",
       "      <td>1647.8</td>\n",
       "    </tr>\n",
       "    <tr>\n",
       "      <th>4</th>\n",
       "      <td>4436033771</td>\n",
       "      <td>0</td>\n",
       "      <td>75</td>\n",
       "      <td>4</td>\n",
       "      <td>0</td>\n",
       "      <td>6</td>\n",
       "      <td>6</td>\n",
       "      <td>6</td>\n",
       "      <td>0</td>\n",
       "      <td>0</td>\n",
       "      <td>...</td>\n",
       "      <td>0</td>\n",
       "      <td>17404</td>\n",
       "      <td>7.0</td>\n",
       "      <td>18313</td>\n",
       "      <td>225</td>\n",
       "      <td>67</td>\n",
       "      <td>1004</td>\n",
       "      <td>-230</td>\n",
       "      <td>22.5</td>\n",
       "      <td>1740.4</td>\n",
       "    </tr>\n",
       "  </tbody>\n",
       "</table>\n",
       "<p>5 rows × 40 columns</p>\n",
       "</div>"
      ],
      "text/plain": [
       "       gameId  blueWins  blueWardsPlaced  blueWardsDestroyed  blueFirstBlood  \\\n",
       "0  4519157822         0               28                   2               1   \n",
       "1  4523371949         0               12                   1               0   \n",
       "2  4521474530         0               15                   0               0   \n",
       "3  4524384067         0               43                   1               0   \n",
       "4  4436033771         0               75                   4               0   \n",
       "\n",
       "   blueKills  blueDeaths  blueAssists  blueEliteMonsters  blueDragons  ...  \\\n",
       "0          9           6           11                  0            0  ...   \n",
       "1          5           5            5                  0            0  ...   \n",
       "2          7          11            4                  1            1  ...   \n",
       "3          4           5            5                  1            0  ...   \n",
       "4          6           6            6                  0            0  ...   \n",
       "\n",
       "   redTowersDestroyed  redTotalGold  redAvgLevel  redTotalExperience  \\\n",
       "0                   0         16567          6.8               17047   \n",
       "1                   1         17620          6.8               17438   \n",
       "2                   0         17285          6.8               17254   \n",
       "3                   0         16478          7.0               17961   \n",
       "4                   0         17404          7.0               18313   \n",
       "\n",
       "   redTotalMinionsKilled  redTotalJungleMinionsKilled  redGoldDiff  \\\n",
       "0                    197                           55         -643   \n",
       "1                    240                           52         2908   \n",
       "2                    203                           28         1172   \n",
       "3                    235                           47         1321   \n",
       "4                    225                           67         1004   \n",
       "\n",
       "   redExperienceDiff  redCSPerMin  redGoldPerMin  \n",
       "0                  8         19.7         1656.7  \n",
       "1               1173         24.0         1762.0  \n",
       "2               1033         20.3         1728.5  \n",
       "3                  7         23.5         1647.8  \n",
       "4               -230         22.5         1740.4  \n",
       "\n",
       "[5 rows x 40 columns]"
      ]
     },
     "execution_count": 9,
     "metadata": {},
     "output_type": "execute_result"
    }
   ],
   "source": [
    "scaler = StandardScaler()\n",
    "df_lol = pd.read_csv('data/high_diamond_ranked_10min.csv')\n",
    "df_lol.head()"
   ]
  },
  {
   "cell_type": "code",
   "execution_count": 10,
   "metadata": {},
   "outputs": [
    {
     "data": {
      "text/plain": [
       "blueWins\n",
       "0    0.500962\n",
       "1    0.499038\n",
       "Name: proportion, dtype: float64"
      ]
     },
     "execution_count": 10,
     "metadata": {},
     "output_type": "execute_result"
    }
   ],
   "source": [
    "df_lol['blueWins'].value_counts(normalize=True)"
   ]
  },
  {
   "cell_type": "code",
   "execution_count": 11,
   "metadata": {},
   "outputs": [],
   "source": [
    "features_lol = df_lol.drop(columns=['blueWins', 'gameId'])\n",
    "target_lol = df_lol['blueWins']"
   ]
  },
  {
   "cell_type": "code",
   "execution_count": 12,
   "metadata": {},
   "outputs": [],
   "source": [
    "# scalation\n",
    "features_lol = pd.DataFrame(scaler.fit_transform(features_lol), columns=features_lol.columns)"
   ]
  },
  {
   "cell_type": "code",
   "execution_count": 13,
   "metadata": {},
   "outputs": [],
   "source": [
    "X_train_lol, X_test_lol, y_train_lol, y_test_lol = train_test_split(features_lol, target_lol, test_size=0.2, random_state=7)"
   ]
  },
  {
   "cell_type": "markdown",
   "metadata": {},
   "source": [
    "### Aplicación de técnicas de feature selection e implementación de SVM"
   ]
  },
  {
   "cell_type": "code",
   "execution_count": 14,
   "metadata": {},
   "outputs": [],
   "source": [
    "def train_svm(X_train, y_train, X_test, y_test):\n",
    "    svm = SVC(kernel='linear', probability=True)\n",
    "    svm.fit(X_train, y_train)\n",
    "    return svm"
   ]
  },
  {
   "cell_type": "code",
   "execution_count": 15,
   "metadata": {},
   "outputs": [],
   "source": [
    "# anova f-statistic\n",
    "selector_anova = SelectKBest(f_classif, k=10)\n",
    "X_train_anova = selector_anova.fit_transform(X_train_lol, y_train_lol)\n",
    "X_test_anova = selector_anova.transform(X_test_lol)\n",
    "svm_anova = train_svm(X_train_anova, y_train_lol, X_test_anova, y_test_lol)"
   ]
  },
  {
   "cell_type": "code",
   "execution_count": 16,
   "metadata": {},
   "outputs": [],
   "source": [
    "# recursive feature elimination\n",
    "selector_rfe = RFE(estimator=SVC(kernel='linear'), n_features_to_select=10)\n",
    "X_train_rfe = selector_rfe.fit_transform(X_train_lol, y_train_lol)\n",
    "X_test_rfe = selector_rfe.transform(X_test_lol)\n",
    "svm_rfe = train_svm(X_train_rfe, y_train_lol, X_test_rfe, y_test_lol)"
   ]
  },
  {
   "cell_type": "code",
   "execution_count": 17,
   "metadata": {},
   "outputs": [],
   "source": [
    "# random forest\n",
    "important_features = ['blueKills', 'blueGoldDiff', 'redGoldDiff', 'blueExperienceDiff', 'redExperienceDiff',\n",
    "                       'blueGoldPerMin', 'redGoldPerMin', 'blueCSPerMin', 'redCSPerMin', 'blueAvgLevel']\n",
    "X_train_rf = X_train_lol[important_features]\n",
    "X_test_rf = X_test_lol[important_features]\n",
    "svm_rf = train_svm(X_train_rf, y_train_lol, X_test_rf, y_test_lol)"
   ]
  },
  {
   "cell_type": "code",
   "execution_count": 18,
   "metadata": {},
   "outputs": [],
   "source": [
    "# svm without features selection\n",
    "model = svm.SVC(kernel='rbf', class_weight={-1:1, 1:10})\n",
    "y_training = np.where(y_train_lol.values <= 0, -1, 1)\n",
    "model.fit(X_train_lol.values, y_training)\n",
    "y_pred = model.predict(X_test_lol.values)\n",
    "y_true = np.where(y_test_lol.values <= 0, -1, 1)"
   ]
  },
  {
   "cell_type": "markdown",
   "metadata": {},
   "source": [
    "### Comparación y métricas de desempeño"
   ]
  },
  {
   "cell_type": "code",
   "execution_count": 19,
   "metadata": {},
   "outputs": [
    {
     "name": "stdout",
     "output_type": "stream",
     "text": [
      " --- comparison using accuracy --- \n",
      "SVM without features selection: 0.5901\n",
      "ANOVA: 0.7257\n",
      "Random Forest: 0.7267\n",
      "Recursive Feature Elimination (RFE): 0.7282\n"
     ]
    },
    {
     "ename": "TypeError",
     "evalue": "'numpy.float64' object is not callable",
     "output_type": "error",
     "traceback": [
      "\u001b[1;31m---------------------------------------------------------------------------\u001b[0m",
      "\u001b[1;31mTypeError\u001b[0m                                 Traceback (most recent call last)",
      "Cell \u001b[1;32mIn[19], line 15\u001b[0m\n\u001b[0;32m     12\u001b[0m \u001b[38;5;28mprint\u001b[39m(\u001b[38;5;124m\"\u001b[39m\u001b[38;5;124mRecursive Feature Elimination (RFE):\u001b[39m\u001b[38;5;124m\"\u001b[39m, \u001b[38;5;28mround\u001b[39m(accuracy_rfe, \u001b[38;5;241m4\u001b[39m))\n\u001b[0;32m     14\u001b[0m \u001b[38;5;66;03m# best version according to accuracy\u001b[39;00m\n\u001b[1;32m---> 15\u001b[0m best_version_accuracy \u001b[38;5;241m=\u001b[39m \u001b[38;5;28;43mmax\u001b[39;49m\u001b[43m(\u001b[49m\u001b[43m[\u001b[49m\u001b[43m(\u001b[49m\u001b[43maccuracy_svm\u001b[49m\u001b[43m,\u001b[49m\u001b[43m \u001b[49m\u001b[38;5;124;43m'\u001b[39;49m\u001b[38;5;124;43mSVM\u001b[39;49m\u001b[38;5;124;43m'\u001b[39;49m\u001b[43m)\u001b[49m\u001b[43m]\u001b[49m\u001b[43m)\u001b[49m\n\u001b[0;32m     16\u001b[0m all_versions_accuracy \u001b[38;5;241m=\u001b[39m [(accuracy_anova, \u001b[38;5;124m'\u001b[39m\u001b[38;5;124mANOVA\u001b[39m\u001b[38;5;124m'\u001b[39m), (accuracy_rfe, \u001b[38;5;124m'\u001b[39m\u001b[38;5;124mRFE\u001b[39m\u001b[38;5;124m'\u001b[39m), (accuracy_rf, \u001b[38;5;124m'\u001b[39m\u001b[38;5;124mRandom Forest\u001b[39m\u001b[38;5;124m'\u001b[39m)]\n\u001b[0;32m     17\u001b[0m best_version_accuracy \u001b[38;5;241m=\u001b[39m \u001b[38;5;28mmax\u001b[39m(all_versions_accuracy \u001b[38;5;241m+\u001b[39m [best_version_accuracy])\n",
      "\u001b[1;31mTypeError\u001b[0m: 'numpy.float64' object is not callable"
     ]
    }
   ],
   "source": [
    "# find accuracy of each model\n",
    "accuracy_svm = accuracy_score(y_true, y_pred)\n",
    "accuracy_anova = accuracy_score(y_test_lol, svm_anova.predict(X_test_anova))\n",
    "accuracy_rfe = accuracy_score(y_test_lol, svm_rfe.predict(X_test_rfe))\n",
    "accuracy_rf = accuracy_score(y_test_lol, svm_rf.predict(X_test_rf))\n",
    "\n",
    "# comparison using accuracy\n",
    "print(\" --- comparison using accuracy --- \")\n",
    "print(\"SVM without features selection:\", round(accuracy_svm, 4))\n",
    "print(\"ANOVA:\", round(accuracy_anova, 4))\n",
    "print(\"Random Forest:\", round(accuracy_rf, 4))\n",
    "print(\"Recursive Feature Elimination (RFE):\", round(accuracy_rfe, 4))\n",
    "\n",
    "# best version according to accuracy\n",
    "best_version_accuracy = max([(accuracy_svm, 'SVM')])\n",
    "all_versions_accuracy = [(accuracy_anova, 'ANOVA'), (accuracy_rfe, 'RFE'), (accuracy_rf, 'Random Forest')]\n",
    "best_version_accuracy = max(all_versions_accuracy + [best_version_accuracy])\n",
    "\n",
    "print(\"\")\n",
    "print(f\"La mejor versión según la métrica de precisión es {best_version_accuracy[1]} con accuracy de {round(best_version_accuracy[0], 4)}.\")"
   ]
  },
  {
   "cell_type": "markdown",
   "metadata": {},
   "source": [
    "### ¿Por qué accuracy?\n",
    "En este escenario, la elección de la precisión como métrica de desempeño es apropiada debido a la falta de desequilibrios en las clases del conjunto de datos. La accuracy que mide la proporción de predicciones correctas sobre el total de predicciones, es fiable en situaciones de clases balanceadas."
   ]
  },
  {
   "cell_type": "markdown",
   "metadata": {},
   "source": [
    "### ¿Cuál fué la mejor versión?\n",
    "Los resultados indican que Recursive Feature Elimination (RFE) logra la mayor precisión, alcanzando un valor de 0.7282. Esto sugiere que esta técnica identifica de manera efectiva las características más relevantes para mejorar el rendimiento del modelo SVM. Esta, al eliminar iterativamente las características menos importantes, optimiza la capacidad predictiva del modelo. Por lo tanto, la selección de características mediante RFE parece ser la elección más acertada para este conjunto de datos en términos de accuracy."
   ]
  },
  {
   "cell_type": "markdown",
   "metadata": {},
   "source": [
    "# Task No. 2.3 Perceptrón"
   ]
  },
  {
   "cell_type": "code",
   "execution_count": null,
   "metadata": {
    "ExecuteTime": {
     "end_time": "2024-02-03T02:14:42.592195200Z",
     "start_time": "2024-02-03T02:14:37.278048900Z"
    },
    "collapsed": false
   },
   "outputs": [],
   "source": [
    "# Load Iris\n",
    "from sklearn.datasets import load_iris\n",
    "from sklearn.model_selection import train_test_split\n",
    "from sklearn.metrics import accuracy_score, classification_report\n"
   ]
  },
  {
   "cell_type": "code",
   "execution_count": null,
   "metadata": {
    "ExecuteTime": {
     "end_time": "2024-02-03T02:14:42.606679100Z",
     "start_time": "2024-02-03T02:14:42.594178900Z"
    },
    "collapsed": false
   },
   "outputs": [],
   "source": [
    "def unit_step(x):\n",
    "    \"\"\" Heaviside Step function. v must be a scalar or a numpy array. \"\"\"\n",
    "    threshold = 0\n",
    "    versicolor = 0\n",
    "    virginica = 1\n",
    "    return np.where(x > threshold, virginica, versicolor)"
   ]
  },
  {
   "cell_type": "code",
   "execution_count": null,
   "metadata": {
    "ExecuteTime": {
     "end_time": "2024-02-03T02:14:42.607655400Z",
     "start_time": "2024-02-03T02:14:42.602668300Z"
    },
    "collapsed": false
   },
   "outputs": [],
   "source": [
    "class Perceptron:\n",
    "    \"\"\"\n",
    "    Perceptron classifier.\n",
    "    Reference: https://www.youtube.com/watch?v=aOEoxyA4uXU\n",
    "    \"\"\"\n",
    "    def __init__(self, learning_rate=0.01, n_iters=1000):\n",
    "        self.learning_rate = learning_rate\n",
    "        self.n_iters = n_iters\n",
    "        self.activation_func = unit_step\n",
    "        self.weights = None\n",
    "        self.bias = None\n",
    "        \n",
    "    def fit(self, X, y):\n",
    "        n_samples, n_features = X.shape\n",
    "        \n",
    "        self.weights = np.random.rand(n_features)\n",
    "        self.bias = 0\n",
    "        \n",
    "        # Gradient descent\n",
    "        for _ in range(self.n_iters):\n",
    "            for i, x_i in enumerate(X):\n",
    "                linear_output = np.dot(x_i, self.weights) + self.bias\n",
    "                y_predicted = self.activation_func(linear_output)\n",
    "                \n",
    "                # Perceptron update rule\n",
    "                update = self.learning_rate * (y[i] - y_predicted)\n",
    "                self.weights += update * x_i\n",
    "                self.bias += update\n",
    "        \n",
    "    \n",
    "    def predict(self, X):\n",
    "        linear_output = np.dot(X, self.weights) + self.bias\n",
    "        y_predicted = self.activation_func(linear_output)\n",
    "        return y_predicted"
   ]
  },
  {
   "cell_type": "code",
   "execution_count": null,
   "metadata": {
    "ExecuteTime": {
     "end_time": "2024-02-03T02:14:42.648135500Z",
     "start_time": "2024-02-03T02:14:42.605658200Z"
    },
    "collapsed": false
   },
   "outputs": [
    {
     "name": "stdout",
     "output_type": "stream",
     "text": [
      "dict_keys(['data', 'target', 'frame', 'target_names', 'DESCR', 'feature_names', 'filename', 'data_module'])\n",
      "['sepal length (cm)', 'sepal width (cm)', 'petal length (cm)', 'petal width (cm)']\n",
      "['setosa' 'versicolor' 'virginica']\n"
     ]
    }
   ],
   "source": [
    "iris = load_iris()\n",
    "print(iris.keys())\n",
    "\n",
    "# Print the names of the four features and the values\n",
    "print(iris.feature_names)\n",
    "\n",
    "# Print the names of the three target classes \n",
    "print(iris.target_names)"
   ]
  },
  {
   "cell_type": "code",
   "execution_count": null,
   "metadata": {
    "ExecuteTime": {
     "end_time": "2024-02-03T02:14:42.649134Z",
     "start_time": "2024-02-03T02:14:42.634878400Z"
    },
    "collapsed": false
   },
   "outputs": [],
   "source": [
    "X = iris.data\n",
    "y = iris.target\n",
    "\n",
    "# Drop setosa\n",
    "X = X[y != 0]\n",
    "y = y[y != 0]\n",
    "\n",
    "# Keep sepal length and sepal width as the features in the X matrix\n",
    "X_sepal_length = X[:, 0]\n",
    "X_sepal_width = X[:, 1]\n",
    "\n",
    "X = np.array(list(zip(X_sepal_length, X_sepal_width)))\n",
    "\n",
    "# Binarize the target\n",
    "y = np.where(y == 1, 0, 1) # Versicolor is 0, Virginica is 1"
   ]
  },
  {
   "cell_type": "code",
   "execution_count": null,
   "metadata": {
    "ExecuteTime": {
     "end_time": "2024-02-03T02:14:42.650130500Z",
     "start_time": "2024-02-03T02:14:42.640660300Z"
    },
    "collapsed": false
   },
   "outputs": [],
   "source": [
    "# Split the data into training and testing sets\n",
    "X_train, X_test, y_train, y_test = train_test_split(X, y, test_size=0.2, random_state=21562)"
   ]
  },
  {
   "cell_type": "code",
   "execution_count": null,
   "metadata": {
    "ExecuteTime": {
     "end_time": "2024-02-03T02:14:43.352636500Z",
     "start_time": "2024-02-03T02:14:42.648135500Z"
    },
    "collapsed": false
   },
   "outputs": [],
   "source": [
    "# Train the perceptron\n",
    "perceptron = Perceptron()\n",
    "perceptron.fit(X_train, y_train)"
   ]
  },
  {
   "cell_type": "code",
   "execution_count": null,
   "metadata": {
    "ExecuteTime": {
     "end_time": "2024-02-03T02:14:43.365288400Z",
     "start_time": "2024-02-03T02:14:43.354806100Z"
    },
    "collapsed": false
   },
   "outputs": [],
   "source": [
    "# Make predictions\n",
    "y_pred = perceptron.predict(X_test)"
   ]
  },
  {
   "cell_type": "code",
   "execution_count": null,
   "metadata": {
    "ExecuteTime": {
     "end_time": "2024-02-03T02:14:43.613803600Z",
     "start_time": "2024-02-03T02:14:43.362307400Z"
    },
    "collapsed": false
   },
   "outputs": [
    {
     "data": {
      "image/png": "[encoded data removed]",
      "text/plain": [
       "<Figure size 640x480 with 1 Axes>"
      ]
     },
     "metadata": {},
     "output_type": "display_data"
    }
   ],
   "source": [
    "# Plot the decision boundary\n",
    "x1 = np.linspace(4.6, 8, 50)\n",
    "x2 = -(perceptron.weights[0] * x1 + perceptron.bias) / perceptron.weights[1]\n",
    "\n",
    "# Limit the decision boundary to the range of the sepal width\n",
    "x2 = np.clip(x2, 2, 4)\n",
    "plt.plot(x1, x2, 'k')\n",
    "\n",
    "# Plot predictions\n",
    "plt.scatter(X_test[y_test == 0][:, 0], X_test[y_test == 0][:, 1], c='b', label='Versicolor')\n",
    "plt.scatter(X_test[y_test == 1][:, 0], X_test[y_test == 1][:, 1], c='r', label='Virginica')\n",
    "\n",
    "\n",
    "plt.xlabel('Sepal length (cm)')\n",
    "plt.ylabel('Sepal width (cm)')\n",
    "plt.title('Perceptron Predictions')\n",
    "plt.legend(loc='upper left', bbox_to_anchor=(1, 1))\n",
    "plt.show()"
   ]
  },
  {
   "cell_type": "code",
   "execution_count": null,
   "metadata": {
    "ExecuteTime": {
     "end_time": "2024-02-03T02:14:43.633725300Z",
     "start_time": "2024-02-03T02:14:43.618441400Z"
    },
    "collapsed": false
   },
   "outputs": [
    {
     "data": {
      "text/plain": [
       "array([[7, 3],\n",
       "       [4, 6]], dtype=int64)"
      ]
     },
     "execution_count": 41,
     "metadata": {},
     "output_type": "execute_result"
    }
   ],
   "source": [
    "from sklearn.metrics import confusion_matrix\n",
    "\n",
    "confusion_matrix(y_test, y_pred)"
   ]
  },
  {
   "cell_type": "code",
   "execution_count": null,
   "metadata": {
    "ExecuteTime": {
     "end_time": "2024-02-03T02:14:43.635712800Z",
     "start_time": "2024-02-03T02:14:43.621965500Z"
    },
    "collapsed": false
   },
   "outputs": [
    {
     "name": "stdout",
     "output_type": "stream",
     "text": [
      "              precision    recall  f1-score   support\n",
      "\n",
      "           0       0.64      0.70      0.67        10\n",
      "           1       0.67      0.60      0.63        10\n",
      "\n",
      "    accuracy                           0.65        20\n",
      "   macro avg       0.65      0.65      0.65        20\n",
      "weighted avg       0.65      0.65      0.65        20\n",
      "\n"
     ]
    }
   ],
   "source": [
    "# Evaluate the model\n",
    "print(classification_report(y_test, y_pred))"
   ]
  },
  {
   "cell_type": "code",
   "execution_count": null,
   "metadata": {
    "ExecuteTime": {
     "end_time": "2024-02-03T02:14:43.648764600Z",
     "start_time": "2024-02-03T02:14:43.637665Z"
    },
    "collapsed": false
   },
   "outputs": [
    {
     "name": "stdout",
     "output_type": "stream",
     "text": [
      "Accuracy: 0.65\n"
     ]
    }
   ],
   "source": [
    "print(f'Accuracy: {accuracy_score(y_test, y_pred)}')"
   ]
  },
  {
   "cell_type": "markdown",
   "metadata": {
    "collapsed": false
   },
   "source": [
    "Se ha escogido para evaluar el perceptrón el _accuracy_ debido a que es un problema de clasificación binaria. El _accuracy_ es una métrica adecuada para evaluar la precisión de un modelo en donde es necesario tener en cuenta tanto los verdaderos positivos como los verdaderos negativos. \n",
    "\n",
    "En este caso, el _accuracy_ obtenido es de 0.65. No es un valor ideal, pero es un buen punto de partida para mejorar el modelo. Al haber tomado solamente 2 _features_ de los disponibles en el conjunto de datos, es posible que el modelo no esté capturando toda la información necesaria para hacer predicciones más precisas. Además, es necesario tomar en cuenta que las que han sido escogidas (Sepal width y Sepal length) no son las que mejor separan las clases, pues se pueden observar puntos de una clase en el área de la otra. "
   ]
  }
 ],
 "metadata": {
  "kernelspec": {
   "display_name": ".venv",
   "language": "python",
   "name": "python3"
  },
  "language_info": {
   "codemirror_mode": {
    "name": "ipython",
    "version": 3
   },
   "file_extension": ".py",
   "mimetype": "text/x-python",
   "name": "python",
   "nbconvert_exporter": "python",
   "pygments_lexer": "ipython3",
   "version": "3.9.13"
  }
 },
 "nbformat": 4,
 "nbformat_minor": 2
}
